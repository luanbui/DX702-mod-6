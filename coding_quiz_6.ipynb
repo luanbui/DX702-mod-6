{
 "cells": [
  {
   "cell_type": "code",
   "execution_count": 1,
   "id": "c580e731",
   "metadata": {},
   "outputs": [
    {
     "name": "stdout",
     "output_type": "stream",
     "text": [
      "Dataset shape: (1000, 3)\n",
      "\n",
      "First few rows:\n",
      "          Z  X         Y\n",
      "0  0.548814  0 -0.823220\n",
      "1  0.715189  1  0.842405\n",
      "2  0.602763  1  0.898618\n",
      "3  0.544883  0 -0.817325\n",
      "4  0.423655  0 -0.635482\n",
      "5  0.645894  0 -0.968841\n",
      "6  0.437587  0 -0.656381\n",
      "7  0.891773  1  0.754113\n",
      "8  0.963663  1  0.718169\n",
      "9  0.383442  1  1.008279\n",
      "\n",
      "Dataset summary:\n",
      "                 Z            X            Y\n",
      "count  1000.000000  1000.000000  1000.000000\n",
      "mean      0.495922     0.491000     0.163240\n",
      "std       0.290744     0.500169     0.754302\n",
      "min       0.000546     0.000000    -1.459379\n",
      "25%       0.247613     0.000000    -0.457581\n",
      "50%       0.481323     0.000000    -0.017813\n",
      "75%       0.737260     1.000000     0.855020\n",
      "max       0.999809     1.000000     1.190403\n",
      "\n",
      "Treatment distribution:\n",
      "X\n",
      "0    509\n",
      "1    491\n",
      "Name: count, dtype: int64\n"
     ]
    }
   ],
   "source": [
    "import pandas as pd\n",
    "import numpy as np\n",
    "from sklearn.neighbors import NearestNeighbors\n",
    "\n",
    "# Load the dataset\n",
    "df = pd.read_csv('homework_6.1.csv', index_col=0)\n",
    "\n",
    "# Display the first few rows and basic statistics\n",
    "print(\"Dataset shape:\", df.shape)\n",
    "print(\"\\nFirst few rows:\")\n",
    "print(df.head(10))\n",
    "print(\"\\nDataset summary:\")\n",
    "print(df.describe())\n",
    "print(\"\\nTreatment distribution:\")\n",
    "print(df['X'].value_counts())"
   ]
  },
  {
   "cell_type": "code",
   "execution_count": 2,
   "id": "c6a28642",
   "metadata": {},
   "outputs": [
    {
     "name": "stdout",
     "output_type": "stream",
     "text": [
      "Number of treated units: 491\n",
      "Number of untreated units: 509\n",
      "\n",
      "Treated group - Z statistics:\n",
      "count    491.000000\n",
      "mean       0.647500\n",
      "std        0.251813\n",
      "min        0.019193\n",
      "25%        0.453930\n",
      "50%        0.681393\n",
      "75%        0.878773\n",
      "max        0.999809\n",
      "Name: Z, dtype: float64\n",
      "\n",
      "Untreated group - Z statistics:\n",
      "count    509.000000\n",
      "mean       0.349703\n",
      "std        0.247878\n",
      "min        0.000546\n",
      "25%        0.138183\n",
      "50%        0.301575\n",
      "75%        0.526907\n",
      "max        0.972919\n",
      "Name: Z, dtype: float64\n"
     ]
    }
   ],
   "source": [
    "# Separate treated and untreated groups\n",
    "treated = df[df['X'] == 1].copy()\n",
    "untreated = df[df['X'] == 0].copy()\n",
    "\n",
    "print(f\"Number of treated units: {len(treated)}\")\n",
    "print(f\"Number of untreated units: {len(untreated)}\")\n",
    "print(f\"\\nTreated group - Z statistics:\")\n",
    "print(treated['Z'].describe())\n",
    "print(f\"\\nUntreated group - Z statistics:\")\n",
    "print(untreated['Z'].describe())"
   ]
  },
  {
   "cell_type": "markdown",
   "id": "d0a4a7a8",
   "metadata": {},
   "source": [
    "## 1. Average Treatment Effect (ATE)\n",
    "\n",
    "For each item in the dataset, find its nearest neighbor in the opposite group based on the confounder Z. The counterfactual outcome is the Y value of the nearest neighbor. The individual treatment effect is the difference between the actual and counterfactual outcomes."
   ]
  },
  {
   "cell_type": "code",
   "execution_count": 3,
   "id": "288181eb",
   "metadata": {},
   "outputs": [
    {
     "name": "stdout",
     "output_type": "stream",
     "text": [
      "Average Treatment Effect (ATE): 1.695270\n",
      "\n",
      "Breakdown:\n",
      "  Mean effect for treated units: 1.846409\n",
      "  Mean effect for untreated units: 1.549477\n"
     ]
    }
   ],
   "source": [
    "# 1. Average Treatment Effect (ATE)\n",
    "# Match each treated to nearest untreated and vice versa\n",
    "\n",
    "# For treated units, find nearest untreated neighbor\n",
    "nn_untreated = NearestNeighbors(n_neighbors=1)\n",
    "nn_untreated.fit(untreated[['Z']])\n",
    "distances_t, indices_t = nn_untreated.kneighbors(treated[['Z']])\n",
    "\n",
    "# For untreated units, find nearest treated neighbor\n",
    "nn_treated = NearestNeighbors(n_neighbors=1)\n",
    "nn_treated.fit(treated[['Z']])\n",
    "distances_u, indices_u = nn_treated.kneighbors(untreated[['Z']])\n",
    "\n",
    "# Calculate individual treatment effects for treated units\n",
    "# ITE = Y_treated - Y_counterfactual (matched untreated)\n",
    "treated_effects = treated['Y'].values - untreated.iloc[indices_t.flatten()]['Y'].values\n",
    "\n",
    "# Calculate individual treatment effects for untreated units\n",
    "# ITE = Y_counterfactual (matched treated) - Y_untreated\n",
    "untreated_effects = treated.iloc[indices_u.flatten()]['Y'].values - untreated['Y'].values\n",
    "\n",
    "# Average Treatment Effect (ATE): average across all units\n",
    "ate = np.mean(np.concatenate([treated_effects, untreated_effects]))\n",
    "\n",
    "print(f\"Average Treatment Effect (ATE): {ate:.6f}\")\n",
    "print(f\"\\nBreakdown:\")\n",
    "print(f\"  Mean effect for treated units: {np.mean(treated_effects):.6f}\")\n",
    "print(f\"  Mean effect for untreated units: {np.mean(untreated_effects):.6f}\")"
   ]
  },
  {
   "cell_type": "markdown",
   "id": "a752f8f7",
   "metadata": {},
   "source": [
    "## 2. Average Treatment Effect on the Treated (ATT)\n",
    "\n",
    "For each treated item, find its counterfactual from the untreated group. We only consider the treatment effects for the treated units and ignore standalone untreated units."
   ]
  },
  {
   "cell_type": "code",
   "execution_count": 4,
   "id": "5783c0b1",
   "metadata": {},
   "outputs": [
    {
     "name": "stdout",
     "output_type": "stream",
     "text": [
      "Average Treatment Effect on the Treated (ATT): 1.846409\n",
      "  Based on 491 treated units\n"
     ]
    }
   ],
   "source": [
    "# 2. Average Treatment Effect on the Treated (ATT)\n",
    "# Only consider treated units and their matched counterfactuals\n",
    "\n",
    "att = np.mean(treated_effects)\n",
    "\n",
    "print(f\"Average Treatment Effect on the Treated (ATT): {att:.6f}\")\n",
    "print(f\"  Based on {len(treated)} treated units\")"
   ]
  },
  {
   "cell_type": "markdown",
   "id": "52aa68a1",
   "metadata": {},
   "source": [
    "## 3. Average Treatment Effect on the Untreated (ATU)\n",
    "\n",
    "For each untreated item, find its counterfactual from the treated group. We only consider the treatment effects for the untreated units and ignore standalone treated units."
   ]
  },
  {
   "cell_type": "code",
   "execution_count": 5,
   "id": "00dd7cca",
   "metadata": {},
   "outputs": [
    {
     "name": "stdout",
     "output_type": "stream",
     "text": [
      "Average Treatment Effect on the Untreated (ATU): 1.549477\n",
      "  Based on 509 untreated units\n"
     ]
    }
   ],
   "source": [
    "# 3. Average Treatment Effect on the Untreated (ATU)\n",
    "# Only consider untreated units and their matched counterfactuals\n",
    "\n",
    "atu = np.mean(untreated_effects)\n",
    "\n",
    "print(f\"Average Treatment Effect on the Untreated (ATU): {atu:.6f}\")\n",
    "print(f\"  Based on {len(untreated)} untreated units\")"
   ]
  },
  {
   "cell_type": "markdown",
   "id": "dba8af87",
   "metadata": {},
   "source": [
    "## 4. Optimal Treatment Effect\n",
    "\n",
    "Find the maximum treatment effect across all untreated items. This identifies the single untreated individual who would benefit most from receiving the treatment."
   ]
  },
  {
   "cell_type": "code",
   "execution_count": 6,
   "id": "456a885a",
   "metadata": {},
   "outputs": [
    {
     "name": "stdout",
     "output_type": "stream",
     "text": [
      "Optimal Treatment Effect: 2.172470\n",
      "\n",
      "Optimal untreated unit (index 298):\n",
      "  Z = 0.972919\n",
      "  Y (untreated) = -1.459379\n",
      "\n",
      "Matched treated counterfactual (index 951):\n",
      "  Z = 0.973819\n",
      "  Y (treated) = 0.713091\n",
      "\n",
      "Potential gain from treatment: 2.172470\n"
     ]
    }
   ],
   "source": [
    "# 4. Optimal Treatment Effect\n",
    "# Find the maximum treatment effect among untreated units\n",
    "\n",
    "optimal_te = np.max(untreated_effects)\n",
    "optimal_idx = np.argmax(untreated_effects)\n",
    "optimal_unit = untreated.iloc[optimal_idx]\n",
    "matched_treated_unit = treated.iloc[indices_u[optimal_idx][0]]\n",
    "\n",
    "print(f\"Optimal Treatment Effect: {optimal_te:.6f}\")\n",
    "print(f\"\\nOptimal untreated unit (index {optimal_unit.name}):\")\n",
    "print(f\"  Z = {optimal_unit['Z']:.6f}\")\n",
    "print(f\"  Y (untreated) = {optimal_unit['Y']:.6f}\")\n",
    "print(f\"\\nMatched treated counterfactual (index {matched_treated_unit.name}):\")\n",
    "print(f\"  Z = {matched_treated_unit['Z']:.6f}\")\n",
    "print(f\"  Y (treated) = {matched_treated_unit['Y']:.6f}\")\n",
    "print(f\"\\nPotential gain from treatment: {optimal_te:.6f}\")"
   ]
  },
  {
   "cell_type": "markdown",
   "id": "19403120",
   "metadata": {},
   "source": [
    "## Summary of Results"
   ]
  },
  {
   "cell_type": "code",
   "execution_count": 7,
   "id": "c0c8b61e",
   "metadata": {},
   "outputs": [
    {
     "name": "stdout",
     "output_type": "stream",
     "text": [
      "============================================================\n",
      "SUMMARY OF TREATMENT EFFECTS\n",
      "============================================================\n",
      "\n",
      "1. Average Treatment Effect (ATE): 1.695270\n",
      "   - Average effect across all units (treated + untreated)\n",
      "\n",
      "2. Average Treatment Effect on Treated (ATT): 1.846409\n",
      "   - Average effect for treated units only\n",
      "\n",
      "3. Average Treatment Effect on Untreated (ATU): 1.549477\n",
      "   - Average effect for untreated units only\n",
      "\n",
      "4. Optimal Treatment Effect: 2.172470\n",
      "   - Maximum potential treatment effect\n",
      "============================================================\n"
     ]
    }
   ],
   "source": [
    "# Summary of all treatment effects\n",
    "print(\"=\" * 60)\n",
    "print(\"SUMMARY OF TREATMENT EFFECTS\")\n",
    "print(\"=\" * 60)\n",
    "print(f\"\\n1. Average Treatment Effect (ATE): {ate:.6f}\")\n",
    "print(f\"   - Average effect across all units (treated + untreated)\")\n",
    "print(f\"\\n2. Average Treatment Effect on Treated (ATT): {att:.6f}\")\n",
    "print(f\"   - Average effect for treated units only\")\n",
    "print(f\"\\n3. Average Treatment Effect on Untreated (ATU): {atu:.6f}\")\n",
    "print(f\"   - Average effect for untreated units only\")\n",
    "print(f\"\\n4. Optimal Treatment Effect: {optimal_te:.6f}\")\n",
    "print(f\"   - Maximum potential treatment effect\")\n",
    "print(\"=\" * 60)"
   ]
  }
 ],
 "metadata": {
  "kernelspec": {
   "display_name": ".venv",
   "language": "python",
   "name": "python3"
  },
  "language_info": {
   "codemirror_mode": {
    "name": "ipython",
    "version": 3
   },
   "file_extension": ".py",
   "mimetype": "text/x-python",
   "name": "python",
   "nbconvert_exporter": "python",
   "pygments_lexer": "ipython3",
   "version": "3.13.5"
  }
 },
 "nbformat": 4,
 "nbformat_minor": 5
}
