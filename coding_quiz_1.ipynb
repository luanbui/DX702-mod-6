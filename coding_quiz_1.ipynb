{
 "cells": [
  {
   "cell_type": "code",
   "execution_count": 2,
   "id": "7fded724",
   "metadata": {},
   "outputs": [
    {
     "data": {
      "application/vnd.microsoft.datawrangler.viewer.v0+json": {
       "columns": [
        {
         "name": "index",
         "rawType": "int64",
         "type": "integer"
        },
        {
         "name": "X1",
         "rawType": "float64",
         "type": "float"
        },
        {
         "name": "X2",
         "rawType": "float64",
         "type": "float"
        },
        {
         "name": "X3",
         "rawType": "float64",
         "type": "float"
        },
        {
         "name": "Y",
         "rawType": "float64",
         "type": "float"
        }
       ],
       "ref": "d5e652a8-e3c6-4878-bbcc-ae65162abdd4",
       "rows": [
        [
         "0",
         "-0.440646257",
         "-0.390226711",
         "0.1567183896240946",
         "-0.877671498"
        ],
        [
         "1",
         "-3.810098679",
         "-1.304664996",
         "-1.105117432",
         "-10.13038794"
        ],
        [
         "2",
         "-1.425451276",
         "-0.340048861",
         "1.1159077837971867",
         "0.2840678048688563"
        ],
        [
         "3",
         "-1.325749604",
         "0.1619055838614624",
         "-0.254669987",
         "-1.994343999"
        ],
        [
         "4",
         "3.120262764824237",
         "1.4873433726124945",
         "-1.16483866",
         "2.030029724854239"
        ]
       ],
       "shape": {
        "columns": 4,
        "rows": 5
       }
      },
      "text/html": [
       "<div>\n",
       "<style scoped>\n",
       "    .dataframe tbody tr th:only-of-type {\n",
       "        vertical-align: middle;\n",
       "    }\n",
       "\n",
       "    .dataframe tbody tr th {\n",
       "        vertical-align: top;\n",
       "    }\n",
       "\n",
       "    .dataframe thead th {\n",
       "        text-align: right;\n",
       "    }\n",
       "</style>\n",
       "<table border=\"1\" class=\"dataframe\">\n",
       "  <thead>\n",
       "    <tr style=\"text-align: right;\">\n",
       "      <th></th>\n",
       "      <th>X1</th>\n",
       "      <th>X2</th>\n",
       "      <th>X3</th>\n",
       "      <th>Y</th>\n",
       "    </tr>\n",
       "  </thead>\n",
       "  <tbody>\n",
       "    <tr>\n",
       "      <th>0</th>\n",
       "      <td>-0.440646</td>\n",
       "      <td>-0.390227</td>\n",
       "      <td>0.156718</td>\n",
       "      <td>-0.877671</td>\n",
       "    </tr>\n",
       "    <tr>\n",
       "      <th>1</th>\n",
       "      <td>-3.810099</td>\n",
       "      <td>-1.304665</td>\n",
       "      <td>-1.105117</td>\n",
       "      <td>-10.130388</td>\n",
       "    </tr>\n",
       "    <tr>\n",
       "      <th>2</th>\n",
       "      <td>-1.425451</td>\n",
       "      <td>-0.340049</td>\n",
       "      <td>1.115908</td>\n",
       "      <td>0.284068</td>\n",
       "    </tr>\n",
       "    <tr>\n",
       "      <th>3</th>\n",
       "      <td>-1.325750</td>\n",
       "      <td>0.161906</td>\n",
       "      <td>-0.254670</td>\n",
       "      <td>-1.994344</td>\n",
       "    </tr>\n",
       "    <tr>\n",
       "      <th>4</th>\n",
       "      <td>3.120263</td>\n",
       "      <td>1.487343</td>\n",
       "      <td>-1.164839</td>\n",
       "      <td>2.030030</td>\n",
       "    </tr>\n",
       "  </tbody>\n",
       "</table>\n",
       "</div>"
      ],
      "text/plain": [
       "         X1        X2        X3          Y\n",
       "0 -0.440646 -0.390227  0.156718  -0.877671\n",
       "1 -3.810099 -1.304665 -1.105117 -10.130388\n",
       "2 -1.425451 -0.340049  1.115908   0.284068\n",
       "3 -1.325750  0.161906 -0.254670  -1.994344\n",
       "4  3.120263  1.487343 -1.164839   2.030030"
      ]
     },
     "execution_count": 2,
     "metadata": {},
     "output_type": "execute_result"
    }
   ],
   "source": [
    "import pandas as pd\n",
    "\n",
    "# Load the CSV file\n",
    "file_path = './homework_1.1.csv'\n",
    "df = pd.read_csv(file_path)\n",
    "\n",
    "# Display the first few rows\n",
    "df.head()"
   ]
  },
  {
   "cell_type": "code",
   "execution_count": 3,
   "id": "b456acd3",
   "metadata": {},
   "outputs": [
    {
     "name": "stdout",
     "output_type": "stream",
     "text": [
      "Intercept: 0.0004814816948028877\n",
      "Coefficients: [1.00924425 1.95320673 2.96066314]\n",
      "Mean Squared Error: 0.2703874410064394\n",
      "R^2 Score: 0.9908211302539603\n"
     ]
    }
   ],
   "source": [
    "from sklearn.linear_model import LinearRegression\n",
    "from sklearn.model_selection import train_test_split\n",
    "from sklearn.metrics import mean_squared_error, r2_score\n",
    "\n",
    "# Select features and target\n",
    "X = df[['X1', 'X2', 'X3']]\n",
    "y = df['Y']\n",
    "\n",
    "# Split the data (optional, for demonstration)\n",
    "X_train, X_test, y_train, y_test = train_test_split(X, y, test_size=0.2, random_state=42)\n",
    "\n",
    "# Create and fit the model\n",
    "model = LinearRegression()\n",
    "model.fit(X_train, y_train)\n",
    "\n",
    "# Predict on the test set\n",
    "y_pred = model.predict(X_test)\n",
    "\n",
    "# Output coefficients and performance\n",
    "print('Intercept:', model.intercept_)\n",
    "print('Coefficients:', model.coef_)\n",
    "print('Mean Squared Error:', mean_squared_error(y_test, y_pred))\n",
    "print('R^2 Score:', r2_score(y_test, y_pred))"
   ]
  },
  {
   "cell_type": "code",
   "execution_count": 4,
   "id": "81d16356",
   "metadata": {},
   "outputs": [
    {
     "name": "stdout",
     "output_type": "stream",
     "text": [
      "Coefficient of X1: 1.009244254451761\n"
     ]
    }
   ],
   "source": [
    "# Print the coefficient of X1\n",
    "print('Coefficient of X1:', model.coef_[0])"
   ]
  },
  {
   "cell_type": "code",
   "execution_count": 5,
   "id": "06dd5ad9",
   "metadata": {},
   "outputs": [
    {
     "name": "stdout",
     "output_type": "stream",
     "text": [
      "Coefficient of X1: 1.009244254451761\n",
      "Closest option: Option B (1)\n"
     ]
    }
   ],
   "source": [
    "# Determine which option is closest to the coefficient of X1\n",
    "options = {'A': 2, 'B': 1, 'C': 3}\n",
    "coef_x1 = model.coef_[0]\n",
    "closest_option = min(options, key=lambda k: abs(options[k] - coef_x1))\n",
    "print(f\"Coefficient of X1: {coef_x1}\")\n",
    "print(f\"Closest option: Option {closest_option} ({options[closest_option]})\")"
   ]
  },
  {
   "cell_type": "code",
   "execution_count": 6,
   "id": "91c2efa3",
   "metadata": {},
   "outputs": [
    {
     "name": "stdout",
     "output_type": "stream",
     "text": [
      "Differences between simple and multiple regression coefficients: {'X1': np.float64(0.8325168447197537), 'X2': np.float64(2.1304058516969677), 'X3': np.float64(0.13637805775966516)}\n",
      "Xi with the greatest difference: X2\n"
     ]
    }
   ],
   "source": [
    "# Calculate the difference between simple and multiple regression coefficients for each Xi\n",
    "results = {}\n",
    "for xi in ['X1', 'X2', 'X3']:\n",
    "    # Simple regression: Y ~ Xi\n",
    "    model_simple = LinearRegression()\n",
    "    model_simple.fit(df[[xi]], df['Y'])\n",
    "    coef_simple = model_simple.coef_[0]\n",
    "    # Multiple regression: Y ~ X1 + X2 + X3 (already fit as 'model')\n",
    "    idx = ['X1', 'X2', 'X3'].index(xi)\n",
    "    coef_multiple = model.coef_[idx]\n",
    "    diff = abs(coef_simple - coef_multiple)\n",
    "    results[xi] = diff\n",
    "\n",
    "# Find Xi with the greatest difference\n",
    "greatest_xi = max(results, key=results.get)\n",
    "print('Differences between simple and multiple regression coefficients:', results)\n",
    "print(f\"Xi with the greatest difference: {greatest_xi}\")"
   ]
  },
  {
   "cell_type": "code",
   "execution_count": 8,
   "id": "40ea9a9d",
   "metadata": {},
   "outputs": [
    {
     "name": "stdout",
     "output_type": "stream",
     "text": [
      "t-statistics for each coefficient:\n",
      "X1     60.984011\n",
      "X2     53.283212\n",
      "X3    196.645240\n",
      "dtype: float64\n",
      "Most significant coefficient (by t-statistic): X3\n"
     ]
    }
   ],
   "source": [
    "import statsmodels.api as sm\n",
    "\n",
    "# Add constant for intercept\n",
    "X_with_const = sm.add_constant(X)\n",
    "model_sm = sm.OLS(y, X_with_const).fit()\n",
    "\n",
    "# Get t-statistics for each coefficient (excluding intercept)\n",
    "t_stats = model_sm.tvalues[1:]\n",
    "most_significant = t_stats.abs().idxmax()\n",
    "print('t-statistics for each coefficient:')\n",
    "print(t_stats)\n",
    "print(f\"Most significant coefficient (by t-statistic): {most_significant}\")"
   ]
  },
  {
   "cell_type": "code",
   "execution_count": 9,
   "id": "709d3163",
   "metadata": {},
   "outputs": [
    {
     "name": "stdout",
     "output_type": "stream",
     "text": [
      "           Z  matched_X1_Z  distance\n",
      "0   0.548814      0.568434  0.019620\n",
      "1   0.602763      0.604846  0.002082\n",
      "2   0.544883      0.568434  0.023551\n",
      "3   0.423655      0.414263  0.009392\n",
      "4   0.528895      0.568434  0.039539\n",
      "5   0.568045      0.568434  0.000389\n",
      "6   0.071036      0.120197  0.049161\n",
      "7   0.087129      0.120197  0.033067\n",
      "8   0.020218      0.120197  0.099978\n",
      "9   0.778157      0.780529  0.002372\n",
      "10  0.118274      0.120197  0.001922\n",
      "11  0.143353      0.138183  0.005170\n",
      "12  0.521848      0.568434  0.046586\n",
      "13  0.414662      0.414263  0.000399\n",
      "14  0.264556      0.289406  0.024850\n",
      "15  0.456150      0.461479  0.005329\n",
      "16  0.018790      0.120197  0.101407\n",
      "17  0.616934      0.617635  0.000702\n",
      "18  0.437032      0.437587  0.000555\n",
      "19  0.060225      0.120197  0.059971\n",
      "20  0.666767      0.667410  0.000644\n",
      "21  0.670638      0.667410  0.003227\n",
      "22  0.210383      0.196582  0.013800\n",
      "23  0.102045      0.120197  0.018152\n",
      "24  0.208877      0.196582  0.012294\n",
      "25  0.653108      0.645894  0.007214\n",
      "26  0.253292      0.289406  0.036114\n",
      "27  0.466311      0.461479  0.004831\n",
      "28  0.244426      0.289406  0.044981\n",
      "29  0.158970      0.161310  0.002340\n",
      "30  0.110375      0.120197  0.009821\n",
      "31  0.656330      0.645894  0.010435\n",
      "32  0.097101      0.120197  0.023095\n",
      "33  0.096098      0.120197  0.024098\n",
      "34  0.468651      0.461479  0.007172\n",
      "35  0.739264      0.715189  0.024074\n",
      "36  0.039188      0.120197  0.081009\n",
      "37  0.282807      0.289406  0.006599\n",
      "38  0.118728      0.120197  0.001469\n",
      "39  0.317983      0.315428  0.002555\n",
      "40  0.064147      0.120197  0.056049\n",
      "41  0.566601      0.568434  0.001832\n",
      "42  0.265389      0.289406  0.024017\n",
      "43  0.523248      0.568434  0.045186\n",
      "44  0.093941      0.120197  0.026256\n",
      "45  0.575946      0.570197  0.005750\n",
      "46  0.318569      0.315428  0.003141\n",
      "47  0.131798      0.128926  0.002872\n",
      "48  0.716327      0.715189  0.001138\n",
      "49  0.183191      0.196582  0.013391\n",
      "50  0.020108      0.120197  0.100089\n",
      "51  0.004695      0.120197  0.115501\n"
     ]
    }
   ],
   "source": [
    "# Use NearestNeighbors to match X=0 to X=1 based on Z in homework_1.2.csv\n",
    "from sklearn.neighbors import NearestNeighbors\n",
    "\n",
    "# Load the new dataset\n",
    "file_path_12 = './homework_1.2.csv'\n",
    "df2 = pd.read_csv(file_path_12)\n",
    "\n",
    "# Split into X=0 and X=1 groups\n",
    "x0 = df2[df2['X'] == 0].reset_index(drop=True)\n",
    "x1 = df2[df2['X'] == 1].reset_index(drop=True)\n",
    "\n",
    "# Fit NearestNeighbors on X=1 group using Z\n",
    "nn = NearestNeighbors(n_neighbors=1)\n",
    "nn.fit(x1[['Z']])\n",
    "\n",
    "distances, indices = nn.kneighbors(x0[['Z']])\n",
    "\n",
    "# For each X=0, find the best match in X=1\n",
    "matches = x1.iloc[indices.flatten()].reset_index(drop=True)\n",
    "\n",
    "# Combine results for inspection\n",
    "matched_df = x0.copy()\n",
    "matched_df['matched_X1_index'] = indices.flatten()\n",
    "matched_df['matched_X1_Z'] = matches['Z'].values\n",
    "matched_df['distance'] = distances.flatten()\n",
    "\n",
    "print(matched_df[['Z', 'matched_X1_Z', 'distance']])"
   ]
  },
  {
   "cell_type": "code",
   "execution_count": 11,
   "id": "ed17cbd8",
   "metadata": {},
   "outputs": [
    {
     "name": "stdout",
     "output_type": "stream",
     "text": [
      "Distance of the farthest match: 0.1155010852131689\n"
     ]
    }
   ],
   "source": [
    "# Find the distance of the farthest match (ensure correct calculation)\n",
    "if 'distance' in matched_df.columns:\n",
    "    farthest_distance = max(matched_df['distance'].values)\n",
    "    print('Distance of the farthest match:', farthest_distance)\n",
    "else:\n",
    "    print('Column \"distance\" not found in matched_df. Please check the matching step.')"
   ]
  },
  {
   "cell_type": "code",
   "execution_count": 12,
   "id": "b9fc9938",
   "metadata": {},
   "outputs": [
    {
     "name": "stdout",
     "output_type": "stream",
     "text": [
      "           Z  matched_X0_Z  distance\n",
      "0   0.715189      0.716327  0.001138\n",
      "1   0.645894      0.653108  0.007214\n",
      "2   0.437587      0.437032  0.000555\n",
      "3   0.891773      0.778157  0.113616\n",
      "4   0.963663      0.778157  0.185506\n",
      "5   0.383442      0.414662  0.031220\n",
      "6   0.791725      0.778157  0.013568\n",
      "7   0.925597      0.778157  0.147440\n",
      "8   0.832620      0.778157  0.054463\n",
      "9   0.870012      0.778157  0.091855\n",
      "10  0.978618      0.778157  0.200462\n",
      "11  0.799159      0.778157  0.021002\n",
      "12  0.461479      0.466311  0.004831\n",
      "13  0.780529      0.778157  0.002372\n",
      "14  0.639921      0.653108  0.013187\n",
      "15  0.944669      0.778157  0.166512\n",
      "16  0.774234      0.778157  0.003923\n",
      "17  0.568434      0.568045  0.000389\n",
      "18  0.617635      0.616934  0.000702\n",
      "19  0.612096      0.616934  0.004838\n",
      "20  0.943748      0.778157  0.165591\n",
      "21  0.681820      0.670638  0.011182\n",
      "22  0.359508      0.318569  0.040939\n",
      "23  0.697631      0.716327  0.018696\n",
      "24  0.128926      0.131798  0.002872\n",
      "25  0.315428      0.317983  0.002555\n",
      "26  0.363711      0.318569  0.045142\n",
      "27  0.570197      0.568045  0.002152\n",
      "28  0.438602      0.437032  0.001570\n",
      "29  0.988374      0.778157  0.210217\n",
      "30  0.161310      0.158970  0.002340\n",
      "31  0.138183      0.143353  0.005170\n",
      "32  0.196582      0.208877  0.012294\n",
      "33  0.368725      0.414662  0.045937\n",
      "34  0.820993      0.778157  0.042836\n",
      "35  0.837945      0.778157  0.059788\n",
      "36  0.976459      0.778157  0.198303\n",
      "37  0.976761      0.778157  0.198604\n",
      "38  0.604846      0.602763  0.002082\n",
      "39  0.120197      0.118728  0.001469\n",
      "40  0.296140      0.282807  0.013333\n",
      "41  0.414263      0.414662  0.000399\n",
      "42  0.692472      0.670638  0.021834\n",
      "43  0.929296      0.778157  0.151139\n",
      "44  0.667410      0.666767  0.000644\n",
      "45  0.289406      0.282807  0.006599\n",
      "46  0.586513      0.575946  0.010566\n",
      "47  0.828940      0.778157  0.050783\n"
     ]
    }
   ],
   "source": [
    "# Match each X=1 to its closest X=0 using Z\n",
    "# (reverse direction from previous matching)\n",
    "from sklearn.neighbors import NearestNeighbors\n",
    "\n",
    "# Fit NearestNeighbors on X=0 group using Z\n",
    "nn_reverse = NearestNeighbors(n_neighbors=1)\n",
    "nn_reverse.fit(x0[['Z']])\n",
    "\n",
    "distances_rev, indices_rev = nn_reverse.kneighbors(x1[['Z']])\n",
    "\n",
    "# For each X=1, find the best match in X=0\n",
    "matches_rev = x0.iloc[indices_rev.flatten()].reset_index(drop=True)\n",
    "\n",
    "# Combine results for inspection\n",
    "matched_df_rev = x1.copy()\n",
    "matched_df_rev['matched_X0_index'] = indices_rev.flatten()\n",
    "matched_df_rev['matched_X0_Z'] = matches_rev['Z'].values\n",
    "matched_df_rev['distance'] = distances_rev.flatten()\n",
    "\n",
    "print(matched_df_rev[['Z', 'matched_X0_Z', 'distance']])"
   ]
  },
  {
   "cell_type": "code",
   "execution_count": 16,
   "id": "feeb95da",
   "metadata": {},
   "outputs": [
    {
     "name": "stdout",
     "output_type": "stream",
     "text": [
      "Average Y for X=1: 1.125597137873841\n",
      "Average Y for matched X=0: 0.582237072655257\n",
      "Effect (difference): 0.5433600652185839\n"
     ]
    }
   ],
   "source": [
    "# Calculate the effect: difference in average Y between X=1 and matched X=0\n",
    "# matched_df_rev contains the best X=0 match for each X=1\n",
    "mean_y_x1 = matched_df_rev['Y'].mean()  # average Y for X=1\n",
    "mean_y_matched_x0 = matched_df_rev['matched_X0_index'].apply(lambda idx: x0.loc[idx, 'Y']).mean()  # average Y for matched X=0\n",
    "\n",
    "effect = mean_y_x1 - mean_y_matched_x0\n",
    "print('Average Y for X=1:', mean_y_x1)\n",
    "print('Average Y for matched X=0:', mean_y_matched_x0)\n",
    "print('Effect (difference):', effect)"
   ]
  },
  {
   "cell_type": "code",
   "execution_count": 17,
   "id": "44d24b28",
   "metadata": {},
   "outputs": [
    {
     "name": "stdout",
     "output_type": "stream",
     "text": [
      "     X1_index  X0_index      X1_Z      X0_Z  distance\n",
      "0           0         0  0.715189  0.548814  0.166376\n",
      "1           0         1  0.715189  0.602763  0.112426\n",
      "2           0         2  0.715189  0.544883  0.170306\n",
      "3           0         4  0.715189  0.528895  0.186294\n",
      "4           0         5  0.715189  0.568045  0.147145\n",
      "..        ...       ...       ...       ...       ...\n",
      "732        47        21  0.828940  0.670638  0.158302\n",
      "733        47        25  0.828940  0.653108  0.175832\n",
      "734        47        31  0.828940  0.656330  0.172610\n",
      "735        47        35  0.828940  0.739264  0.089676\n",
      "736        47        48  0.828940  0.716327  0.112613\n",
      "\n",
      "[737 rows x 5 columns]\n"
     ]
    }
   ],
   "source": [
    "# Approach B: For each X=1, find all X=0 matches within distance 0.2 using Z\n",
    "radius = 0.2\n",
    "nn_radius = NearestNeighbors(radius=radius)\n",
    "nn_radius.fit(x0[['Z']])\n",
    "\n",
    "# For each X=1, find all X=0 within radius\n",
    "indices_within_radius = nn_radius.radius_neighbors(x1[['Z']], return_distance=False)\n",
    "\n",
    "# Build a list of matches for each X=1\n",
    "matches_within_radius = []\n",
    "for i, indices in enumerate(indices_within_radius):\n",
    "    for idx in indices:\n",
    "        matches_within_radius.append({'X1_index': i, 'X0_index': idx, 'X1_Z': x1.loc[i, 'Z'], 'X0_Z': x0.loc[idx, 'Z'], 'distance': abs(x1.loc[i, 'Z'] - x0.loc[idx, 'Z'])})\n",
    "\n",
    "matches_within_radius_df = pd.DataFrame(matches_within_radius)\n",
    "print(matches_within_radius_df)"
   ]
  },
  {
   "cell_type": "code",
   "execution_count": 18,
   "id": "871eb57b",
   "metadata": {},
   "outputs": [
    {
     "name": "stdout",
     "output_type": "stream",
     "text": [
      "Number of duplicates (all but the first in each group): 685\n"
     ]
    }
   ],
   "source": [
    "# Count duplicates: for each X=0 index, count how many times it appears (all but the first are duplicates)\n",
    "duplicate_counts = matches_within_radius_df['X0_index'].value_counts()\n",
    "duplicates = duplicate_counts[duplicate_counts > 1].sum() - (duplicate_counts[duplicate_counts > 1].count())\n",
    "print('Number of duplicates (all but the first in each group):', duplicates)"
   ]
  },
  {
   "cell_type": "code",
   "execution_count": 19,
   "id": "cecadf07",
   "metadata": {},
   "outputs": [
    {
     "name": "stdout",
     "output_type": "stream",
     "text": [
      "Average Y for X=1: 1.125597137873841\n",
      "Average Y for matched X=0 groups: 0.5411846604492229\n",
      "Effect (difference): 0.5844124774246181\n"
     ]
    }
   ],
   "source": [
    "# Compute the effect for approach B: mean of Y for each neighbor group, then average\n",
    "# For each X=1, get the mean Y of its matched X=0 neighbors\n",
    "mean_y_x0_groups = matches_within_radius_df.groupby('X1_index')['X0_index'].apply(lambda idxs: x0.loc[idxs, 'Y'].mean())\n",
    "mean_y_x1 = x1['Y'].mean()\n",
    "effect = mean_y_x1 - mean_y_x0_groups.mean()\n",
    "print('Average Y for X=1:', mean_y_x1)\n",
    "print('Average Y for matched X=0 groups:', mean_y_x0_groups.mean())\n",
    "print('Effect (difference):', effect)"
   ]
  },
  {
   "cell_type": "code",
   "execution_count": 1,
   "id": "dd05b0fa",
   "metadata": {},
   "outputs": [
    {
     "name": "stdout",
     "output_type": "stream",
     "text": [
      "Sample size: 50, Variance of mean: 0.0478\n",
      "Sample size: 100, Variance of mean: 0.0034\n",
      "Sample size: 500, Variance of mean: 0.0018\n",
      "Sample size: 1000, Variance of mean: 0.0013\n",
      "Sample size: 5000, Variance of mean: 0.0002\n"
     ]
    },
    {
     "data": {
      "image/png": "[encoded data removed]",
      "text/plain": [
       "<Figure size 640x480 with 1 Axes>"
      ]
     },
     "metadata": {},
     "output_type": "display_data"
    }
   ],
   "source": [
    "import numpy as np\n",
    "import matplotlib.pyplot as plt\n",
    "\n",
    "def bootstrap_pareto_variance(sample_size, n_bootstrap=1000, shape=2.5):\n",
    "    # Generate original sample from Pareto distribution\n",
    "    original_sample = np.random.pareto(shape, sample_size)\n",
    "    bootstrap_means = []\n",
    "    \n",
    "    # Perform bootstrap resampling\n",
    "    for _ in range(n_bootstrap):\n",
    "        bootstrap_sample = np.random.choice(original_sample, size=sample_size, replace=True)\n",
    "        bootstrap_means.append(np.mean(bootstrap_sample))\n",
    "    \n",
    "    return np.var(bootstrap_means)\n",
    "\n",
    "# Test with different sample sizes\n",
    "sample_sizes = [50, 100, 500, 1000, 5000]\n",
    "variances = []\n",
    "\n",
    "for size in sample_sizes:\n",
    "    var = bootstrap_pareto_variance(size)\n",
    "    variances.append(var)\n",
    "    print(f\"Sample size: {size}, Variance of mean: {var:.4f}\")\n",
    "\n",
    "# Plot results\n",
    "plt.plot(sample_sizes, variances, marker='o')\n",
    "plt.xlabel('Sample Size')\n",
    "plt.ylabel('Variance of Bootstrap Means')\n",
    "plt.title('Variance vs Sample Size')\n",
    "plt.show()\n"
   ]
  },
  {
   "cell_type": "code",
   "execution_count": null,
   "id": "43b0b88a",
   "metadata": {},
   "outputs": [
    {
     "ename": "NameError",
     "evalue": "name 'df' is not defined",
     "output_type": "error",
     "traceback": [
      "\u001b[31m---------------------------------------------------------------------------\u001b[39m",
      "\u001b[31mNameError\u001b[39m                                 Traceback (most recent call last)",
      "\u001b[36mCell\u001b[39m\u001b[36m \u001b[39m\u001b[32mIn[2]\u001b[39m\u001b[32m, line 7\u001b[39m\n\u001b[32m      5\u001b[39m \u001b[38;5;66;03m# Create bins for W (narrow ranges)\u001b[39;00m\n\u001b[32m      6\u001b[39m n_bins = \u001b[32m20\u001b[39m\n\u001b[32m----> \u001b[39m\u001b[32m7\u001b[39m df[\u001b[33m'\u001b[39m\u001b[33mW_bin\u001b[39m\u001b[33m'\u001b[39m] = pd.qcut(\u001b[43mdf\u001b[49m[\u001b[33m'\u001b[39m\u001b[33mW\u001b[39m\u001b[33m'\u001b[39m], q=n_bins, labels=\u001b[38;5;28;01mFalse\u001b[39;00m, duplicates=\u001b[33m'\u001b[39m\u001b[33mdrop\u001b[39m\u001b[33m'\u001b[39m)\n\u001b[32m      9\u001b[39m \u001b[38;5;66;03m# Calculate effect within each stratum\u001b[39;00m\n\u001b[32m     10\u001b[39m stratum_effects = []\n",
      "\u001b[31mNameError\u001b[39m: name 'df' is not defined"
     ]
    }
   ],
   "source": [
    "# Method 2: Stratified by W (Conditional on W)\n",
    "import pandas as pd\n",
    "import numpy as np\n",
    "\n",
    "# Create bins for W (narrow ranges)\n",
    "n_bins = 20\n",
    "df['W_bin'] = pd.qcut(df['W'], q=n_bins, labels=False, duplicates='drop')\n",
    "\n",
    "# Calculate effect within each stratum\n",
    "stratum_effects = []\n",
    "for bin_num in df['W_bin'].unique():\n",
    "    stratum_data = df[df['W_bin'] == bin_num]\n",
    "    \n",
    "    # Need both Z=0 and Z=1 in the stratum\n",
    "    if stratum_data['Z'].nunique() == 2:\n",
    "        stratum_z1 = stratum_data[stratum_data['Z'] == 1]\n",
    "        stratum_z0 = stratum_data[stratum_data['Z'] == 0]\n",
    "        \n",
    "        Y_diff = stratum_z1['Y'].mean() - stratum_z0['Y'].mean()\n",
    "        X_diff = stratum_z1['X'].mean() - stratum_z0['X'].mean()\n",
    "        \n",
    "        if abs(X_diff) > 0.001:\n",
    "            stratum_effects.append(Y_diff / X_diff)\n",
    "\n",
    "# Average effects across strata\n",
    "stratified_effect = np.mean(stratum_effects)\n"
   ]
  }
 ],
 "metadata": {
  "kernelspec": {
   "display_name": ".venv",
   "language": "python",
   "name": "python3"
  },
  "language_info": {
   "codemirror_mode": {
    "name": "ipython",
    "version": 3
   },
   "file_extension": ".py",
   "mimetype": "text/x-python",
   "name": "python",
   "nbconvert_exporter": "python",
   "pygments_lexer": "ipython3",
   "version": "3.12.5"
  }
 },
 "nbformat": 4,
 "nbformat_minor": 5
}
